{
 "cells": [
  {
   "cell_type": "code",
   "execution_count": 1,
   "id": "f1670501",
   "metadata": {},
   "outputs": [],
   "source": [
    "import numpy as np   # It is an usual standard to use np for numpy"
   ]
  },
  {
   "cell_type": "code",
   "execution_count": 2,
   "id": "a6a2a75e",
   "metadata": {},
   "outputs": [
    {
     "name": "stdout",
     "output_type": "stream",
     "text": [
      "Vector v: [1 2 3]\n",
      "Matrix A: [[1 2]\n",
      " [3 4]\n",
      " [5 6]]\n",
      "Element-wise addition (v + 2): [3 4 5]\n",
      "Element-wise subtraction (v - 1): [0 1 2]\n",
      "Element-wise multiplication (v * 2): [2 4 6]\n",
      "Element-wise division (v / 2): [0.5 1.  1.5]\n"
     ]
    }
   ],
   "source": [
    "# Creating a vector and a matrix\n",
    "v = np.array([1, 2, 3])\n",
    "A = np.array([[1, 2], [3, 4], [5, 6]])\n",
    "\n",
    "# Element-wise operations on vectors\n",
    "v_add = v + 2\n",
    "v_sub = v - 1\n",
    "v_mul = v * 2\n",
    "v_div = v / 2\n",
    "\n",
    "print(\"Vector v:\", v)\n",
    "print(\"Matrix A:\", A)\n",
    "print(\"Element-wise addition (v + 2):\", v_add)\n",
    "print(\"Element-wise subtraction (v - 1):\", v_sub)\n",
    "print(\"Element-wise multiplication (v * 2):\", v_mul)\n",
    "print(\"Element-wise division (v / 2):\", v_div)"
   ]
  },
  {
   "cell_type": "code",
   "execution_count": 3,
   "id": "1c9c8798",
   "metadata": {},
   "outputs": [
    {
     "name": "stdout",
     "output_type": "stream",
     "text": [
      "Original v: [1 2 3]\n",
      "Modified v: [10  2  3]\n",
      "Original A: [[1 2]\n",
      " [3 4]\n",
      " [5 6]]\n",
      "Modified A: [[1 9]\n",
      " [3 4]\n",
      " [5 6]]\n"
     ]
    }
   ],
   "source": [
    "# Accessing and modifying elements\n",
    "print(\"Original v:\", v)\n",
    "v[0] = 10  # Changing the first component of v to 10\n",
    "print(\"Modified v:\", v)\n",
    "\n",
    "print(\"Original A:\", A)\n",
    "A[0, 1] = 9  # Changing the [0,1] (1st row, 2nd column) entry to 9\n",
    "print(\"Modified A:\", A)"
   ]
  },
  {
   "cell_type": "code",
   "execution_count": 4,
   "id": "2ba75c8b",
   "metadata": {},
   "outputs": [
    {
     "name": "stdout",
     "output_type": "stream",
     "text": [
      "Matrix A:\n",
      " [[ 1  2  3]\n",
      " [ 4  5  6]\n",
      " [ 7  8  9]\n",
      " [10 11 12]]\n",
      "Order (dimensions) of A:  (4, 3)\n",
      "Number of rows in A:  4\n",
      "Number of columns in A:  3\n"
     ]
    }
   ],
   "source": [
    "# Creating a matrix\n",
    "A = np.array([[1, 2, 3], [4, 5, 6], [7, 8, 9], [10, 11, 12]])\n",
    "print(\"Matrix A:\\n\", A)\n",
    "\n",
    "# Printing the order (dimensions) of the matrix\n",
    "print(\"Order (dimensions) of A: \",A.shape)\n",
    "print(\"Number of rows in A: \",A.shape[0])\n",
    "print(\"Number of columns in A: \",A.shape[1])"
   ]
  },
  {
   "cell_type": "markdown",
   "id": "ad0c9e6f",
   "metadata": {},
   "source": [
    "NOTE THAT PYTHON INDEXING STARTS FROM 0"
   ]
  },
  {
   "cell_type": "code",
   "execution_count": 5,
   "id": "02034c48",
   "metadata": {},
   "outputs": [
    {
     "name": "stdout",
     "output_type": "stream",
     "text": [
      "1\n"
     ]
    }
   ],
   "source": [
    "# Extracting an entry from the matrix\n",
    "print(A[0,0]) # 1st row, 1st column entry"
   ]
  },
  {
   "cell_type": "code",
   "execution_count": 6,
   "id": "4a43db97",
   "metadata": {},
   "outputs": [
    {
     "name": "stdout",
     "output_type": "stream",
     "text": [
      "[4 5 6]\n"
     ]
    }
   ],
   "source": [
    "# Extracting a row from the matrix\n",
    "print(A[1]) # 2nd row"
   ]
  },
  {
   "cell_type": "code",
   "execution_count": 7,
   "id": "0f3efa7a",
   "metadata": {},
   "outputs": [
    {
     "name": "stdout",
     "output_type": "stream",
     "text": [
      "[ 1  4  7 10]\n"
     ]
    }
   ],
   "source": [
    "# Extracting a column from the matrix\n",
    "print(A[:,0]) # 1st column"
   ]
  },
  {
   "cell_type": "code",
   "execution_count": 8,
   "id": "c1f9c948",
   "metadata": {},
   "outputs": [
    {
     "name": "stdout",
     "output_type": "stream",
     "text": [
      "A1:  range(0, 10)\n",
      "List of numbers in A1:  [0, 1, 2, 3, 4, 5, 6, 7, 8, 9]\n",
      "A2:  range(-3, 7)\n",
      "List of numbers in A2:  [-3, -2, -1, 0, 1, 2, 3, 4, 5, 6]\n",
      "A3:  range(-3, 7, 2)\n",
      "List of numbers in A3:  [-3, -1, 1, 3, 5]\n"
     ]
    }
   ],
   "source": [
    "# Python range function (default step-size is 1)\n",
    "A1 = range(10) # default starting point is 0\n",
    "print(\"A1: \",A1)\n",
    "print(\"List of numbers in A1: \",list(A1))\n",
    "\n",
    "A2 = range(-3, 7)\n",
    "print(\"A2: \",A2)\n",
    "print(\"List of numbers in A2: \",list(A2))\n",
    "\n",
    "# Range with customized step-size\n",
    "A3 = range(-3, 7, 2)  # step-size as 2\n",
    "print(\"A3: \",A3)\n",
    "print(\"List of numbers in A3: \",list(A3))"
   ]
  },
  {
   "cell_type": "code",
   "execution_count": 9,
   "id": "cbbc0485",
   "metadata": {},
   "outputs": [
    {
     "name": "stdout",
     "output_type": "stream",
     "text": [
      "Matrix B:\n",
      " [[1 0]\n",
      " [0 1]\n",
      " [1 1]]\n",
      "Matrix C:\n",
      " [[1 0 1]\n",
      " [0 1 1]]\n",
      "B * C \n",
      " [[1. 0. 1.]\n",
      " [0. 1. 1.]\n",
      " [1. 1. 2.]]\n",
      "C * B \n",
      " [[2. 1.]\n",
      " [1. 2.]]\n"
     ]
    }
   ],
   "source": [
    "# Matrix multiplication\n",
    "\n",
    "# Define matrices B and C\n",
    "B = np.array([[1, 0], [0, 1], [1, 1]])\n",
    "C = np.array([[1, 0, 1], [0, 1, 1]])\n",
    "\n",
    "print(\"Matrix B:\\n\", B)\n",
    "print(\"Matrix C:\\n\", C)\n",
    "\n",
    "\n",
    "# Check if BC=CB\n",
    "Prod1 = np.zeros((B.shape[0], C.shape[1]))  \n",
    "for i in range(B.shape[0]):\n",
    "    for j in range(C.shape[1]):\n",
    "        for k in range(B.shape[1]):\n",
    "            Prod1[i, j] = Prod1[i, j] + B[i, k] * C[k, j]\n",
    "                \n",
    "print(\"B * C \\n\", Prod1)\n",
    "\n",
    "Prod2 = np.zeros((C.shape[0], B.shape[1]))\n",
    "for i in range(C.shape[0]):\n",
    "    for j in range(B.shape[1]):\n",
    "        for k in range(C.shape[1]):\n",
    "            Prod2[i, j] = Prod2[i, j] + C[i, k] * B[k, j]\n",
    "                \n",
    "print(\"C * B \\n\", Prod2)"
   ]
  },
  {
   "cell_type": "code",
   "execution_count": 10,
   "id": "9afdaece",
   "metadata": {},
   "outputs": [
    {
     "name": "stdout",
     "output_type": "stream",
     "text": [
      "Matrix B:\n",
      " [[1 0]\n",
      " [0 1]\n",
      " [1 1]]\n",
      "Matrix C:\n",
      " [[1 0 1]\n",
      " [0 1 1]]\n",
      "B * C =\n",
      " [[1. 0. 1.]\n",
      " [0. 1. 1.]\n",
      " [1. 1. 2.]]\n",
      "C * B =\n",
      " [[2. 1.]\n",
      " [1. 2.]]\n"
     ]
    }
   ],
   "source": [
    "# FUNCTION that performs matrix multiplication\n",
    "def matrix_multiply(X, Y):\n",
    "    result = np.zeros((X.shape[0], Y.shape[1]))\n",
    "    for i in range(X.shape[0]):\n",
    "        for j in range(Y.shape[1]):\n",
    "            for k in range(X.shape[1]):\n",
    "                result[i, j] = result[i, j] + X[i, k] * Y[k, j]\n",
    "    return result\n",
    "\n",
    "\n",
    "\n",
    "# Define matrices B and C\n",
    "B = np.array([[1, 0], [0, 1], [1, 1]])\n",
    "C = np.array([[1, 0, 1], [0, 1, 1]])\n",
    "\n",
    "\n",
    "print(\"Matrix B:\\n\", B)\n",
    "print(\"Matrix C:\\n\", C)\n",
    "\n",
    "\n",
    "# Calling the function to perform the required matrix multiplications\n",
    "ProdBC = matrix_multiply(B, C)\n",
    "print(\"B * C =\\n\", ProdBC)\n",
    "\n",
    "ProdCB = matrix_multiply(C, B)\n",
    "print(\"C * B =\\n\", ProdCB)"
   ]
  },
  {
   "cell_type": "code",
   "execution_count": 11,
   "id": "a00bcf15",
   "metadata": {},
   "outputs": [
    {
     "name": "stdout",
     "output_type": "stream",
     "text": [
      "Matrix D:\n",
      " [[1 2]\n",
      " [2 3]]\n",
      "Transpose of D:\n",
      " [[1 2]\n",
      " [2 3]]\n",
      "Is D symmetric? True\n",
      "Modified Matrix D:\n",
      " [[1 5]\n",
      " [2 3]]\n",
      "Transpose of Modified D:\n",
      " [[1 2]\n",
      " [5 3]]\n",
      "Is Modified D symmetric? False\n"
     ]
    }
   ],
   "source": [
    "# Define matrix D\n",
    "D = np.array([[1, 2], [2, 3]])\n",
    "print(\"Matrix D:\\n\", D)\n",
    "\n",
    "# Print transpose of D\n",
    "print(\"Transpose of D:\\n\", D.T)\n",
    "\n",
    "\n",
    "# Check if D is symmetric\n",
    "print(\"Is D symmetric?\", np.array_equal(D, D.T))\n",
    "\n",
    "\n",
    "# Modify D to make it asymmetric\n",
    "D[0, 1] = 5\n",
    "print(\"Modified Matrix D:\\n\", D)\n",
    "print(\"Transpose of Modified D:\\n\", D.T)\n",
    "print(\"Is Modified D symmetric?\", np.array_equal(D, D.T))"
   ]
  },
  {
   "cell_type": "code",
   "execution_count": null,
   "id": "73b56584",
   "metadata": {},
   "outputs": [],
   "source": []
  }
 ],
 "metadata": {
  "kernelspec": {
   "display_name": "Python 3 (ipykernel)",
   "language": "python",
   "name": "python3"
  },
  "language_info": {
   "codemirror_mode": {
    "name": "ipython",
    "version": 3
   },
   "file_extension": ".py",
   "mimetype": "text/x-python",
   "name": "python",
   "nbconvert_exporter": "python",
   "pygments_lexer": "ipython3",
   "version": "3.9.13"
  }
 },
 "nbformat": 4,
 "nbformat_minor": 5
}
