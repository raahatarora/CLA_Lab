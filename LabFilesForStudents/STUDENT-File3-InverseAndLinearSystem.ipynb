{
 "cells": [
  {
   "cell_type": "code",
   "execution_count": 1,
   "id": "9999e2b2",
   "metadata": {},
   "outputs": [],
   "source": [
    "import numpy as np"
   ]
  },
  {
   "cell_type": "code",
   "execution_count": 2,
   "id": "c5e13e75",
   "metadata": {},
   "outputs": [
    {
     "name": "stdout",
     "output_type": "stream",
     "text": [
      "Identity Matrix (2x2):\n",
      " [[1. 0.]\n",
      " [0. 1.]]\n",
      "Matrix C:\n",
      " [[4 7]\n",
      " [2 6]]\n",
      "Inverse of C:\n",
      " [[ 0.6 -0.7]\n",
      " [-0.2  0.4]]\n",
      "C * C_inv:\n",
      " [[ 1.00000000e+00  0.00000000e+00]\n",
      " [-2.22044605e-16  1.00000000e+00]]\n"
     ]
    }
   ],
   "source": [
    "# Create an identity matrix of size 2x2\n",
    "I = np.eye(2)\n",
    "print(\"Identity Matrix (2x2):\\n\", I)\n",
    "\n",
    "# Define matrix C\n",
    "C = np.array([[4, 7], [2, 6]])\n",
    "\n",
    "# Compute the inverse of C\n",
    "C_inv = np.linalg.inv(C)\n",
    "\n",
    "# Verify by multiplying C with its inverse\n",
    "identity_check = np.dot(C, C_inv)\n",
    "\n",
    "print(\"Matrix C:\\n\", C)\n",
    "print(\"Inverse of C:\\n\", C_inv)\n",
    "print(\"C * C_inv:\\n\", identity_check)"
   ]
  },
  {
   "cell_type": "code",
   "execution_count": 3,
   "id": "d8db0d30",
   "metadata": {},
   "outputs": [
    {
     "name": "stdout",
     "output_type": "stream",
     "text": [
      "Matrix A:\n",
      " [[1 2]\n",
      " [3 4]]\n",
      "Vector b: [ 5 11]\n",
      "Solution x: [1. 2.]\n",
      "Verification:\n",
      "A*x =  [ 5. 11.]\n",
      "Vector b: [ 5 11]\n",
      "Is A*x = b?  True\n"
     ]
    }
   ],
   "source": [
    "## The linear system Ax = b\n",
    "\n",
    "# Define the coefficients matrix A and the constants vector b\n",
    "A = np.array([[1, 2], [3, 4]])\n",
    "b = np.array([5, 11])\n",
    "print(\"Matrix A:\\n\", A)\n",
    "print(\"Vector b:\", b)\n",
    "\n",
    "# Solve the system Ax = b\n",
    "x = np.linalg.solve(A, b)\n",
    "print(\"Solution x:\", x)\n",
    "\n",
    "\n",
    "# Verify by substituting the solution back into the equations\n",
    "print(\"Verification:\")\n",
    "ProdAx = np.dot(A, x)\n",
    "print(\"A*x = \", ProdAx)\n",
    "print(\"Vector b:\", b)\n",
    "print(\"Is A*x = b? \", np.array_equal(ProdAx, b))"
   ]
  },
  {
   "cell_type": "code",
   "execution_count": null,
   "id": "55845cfd",
   "metadata": {},
   "outputs": [],
   "source": []
  }
 ],
 "metadata": {
  "kernelspec": {
   "display_name": "Python 3 (ipykernel)",
   "language": "python",
   "name": "python3"
  },
  "language_info": {
   "codemirror_mode": {
    "name": "ipython",
    "version": 3
   },
   "file_extension": ".py",
   "mimetype": "text/x-python",
   "name": "python",
   "nbconvert_exporter": "python",
   "pygments_lexer": "ipython3",
   "version": "3.9.13"
  }
 },
 "nbformat": 4,
 "nbformat_minor": 5
}
