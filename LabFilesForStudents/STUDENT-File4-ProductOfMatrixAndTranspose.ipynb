{
 "cells": [
  {
   "cell_type": "code",
   "execution_count": 1,
   "id": "c782a7c5",
   "metadata": {},
   "outputs": [],
   "source": [
    "import numpy as np"
   ]
  },
  {
   "cell_type": "code",
   "execution_count": 2,
   "id": "82585873",
   "metadata": {},
   "outputs": [
    {
     "name": "stdout",
     "output_type": "stream",
     "text": [
      "Matrix A:\n",
      " [[ 1  2  3]\n",
      " [ 4 -5  0]\n",
      " [-7  8 -1]\n",
      " [-2  3  5]]\n",
      "Order of A:  (4, 3)\n"
     ]
    }
   ],
   "source": [
    "# Matrix A\n",
    "A = np.array([[1, 2, 3], [4, -5, 0], [-7, 8, -1], [-2, 3, 5]])\n",
    "print(\"Matrix A:\\n\", A)\n",
    "\n",
    "# Order of A\n",
    "print(\"Order of A: \",A.shape)"
   ]
  },
  {
   "cell_type": "code",
   "execution_count": 3,
   "id": "bbf838dc",
   "metadata": {},
   "outputs": [
    {
     "name": "stdout",
     "output_type": "stream",
     "text": [
      "[[ 14  -6   6  19]\n",
      " [ -6  41 -68 -23]\n",
      " [  6 -68 114  33]\n",
      " [ 19 -23  33  38]]\n",
      "[[ 70 -80   0]\n",
      " [-80 102  13]\n",
      " [  0  13  35]]\n"
     ]
    }
   ],
   "source": [
    "# Computing the matrices A(A^T) and (A^T)A\n",
    "\n",
    "C = np.dot(A, A.T)\n",
    "D = np.dot(A.T, A)\n",
    "\n",
    "print(C)\n",
    "print(D)"
   ]
  },
  {
   "cell_type": "code",
   "execution_count": 4,
   "id": "976da6ec",
   "metadata": {},
   "outputs": [
    {
     "name": "stdout",
     "output_type": "stream",
     "text": [
      "Order of A(A^T):  (4, 4)\n",
      "Order of (A^T)A:  (3, 3)\n",
      "Is A(A^T) symmetric?  True\n",
      "Is (A^T)A symmetric?  True\n"
     ]
    }
   ],
   "source": [
    "# Checking whether A(A^T) and (A^T)A are symmetric\n",
    "\n",
    "print(\"Order of A(A^T): \",C.shape)\n",
    "print(\"Order of (A^T)A: \",D.shape)\n",
    "\n",
    "AATSym = np.array_equal(C, C.T)\n",
    "print(\"Is A(A^T) symmetric? \", AATSym)\n",
    "\n",
    "ATASym = np.array_equal(D, D.T)\n",
    "print(\"Is (A^T)A symmetric? \", AATSym)"
   ]
  },
  {
   "cell_type": "code",
   "execution_count": 5,
   "id": "2c7b9417",
   "metadata": {},
   "outputs": [
    {
     "name": "stdout",
     "output_type": "stream",
     "text": [
      "(ij)-th entry:  -68\n",
      "(ji)-th entry:  -68\n",
      "Equal?  True\n"
     ]
    }
   ],
   "source": [
    "# Checking equality of an entry with its diagonally symmetric entry in A(A^T)\n",
    "\n",
    "i = 1\n",
    "j = 2\n",
    "\n",
    "# As A(A^T) is a 4*4 matrix, enter i and j such that 0 <= i <= 3 and 0 <= j <= 3.\n",
    "\n",
    "Entryij = np.dot(A[i], A.T[:,j])  # Dot product of ith row of A and jth column of A^T\n",
    "Entryji = np.dot(A[j], A.T[:,i])  # Dot product of jth row of A and ith column of A^T\n",
    "\n",
    "print(\"(ij)-th entry: \",Entryij)\n",
    "print(\"(ji)-th entry: \",Entryji)\n",
    "\n",
    "print(\"Equal? \",Entryij == Entryji)"
   ]
  },
  {
   "cell_type": "code",
   "execution_count": 6,
   "id": "88566027",
   "metadata": {},
   "outputs": [
    {
     "name": "stdout",
     "output_type": "stream",
     "text": [
      "check =  1\n"
     ]
    }
   ],
   "source": [
    "# Verifying that the matrix A(A^T) is symmetric using the dot products of rows and columns of A and A^T.\n",
    "\n",
    "A = np.array([[1, 2, 3], [4, -5, 0], [-7, 8, -1], [-2, 3, 5]])\n",
    "C = np.dot(A, A.T)\n",
    "\n",
    "check = 1  # The matrix A(A^T) is symmetric if check remains as 1\n",
    "\n",
    "for i in range(1, C.shape[0]):\n",
    "    for j in range(C.shape[0]-1):\n",
    "        if np.dot(A[i], A.T[:,j]) != np.dot(A[j], A.T[:,i]):\n",
    "            check = 0\n",
    "# Dot product of ith row of A and jth column of A^T should be the same as dot product of jth row of A and ith column of A^T\n",
    "# for all pairs (i,j).\n",
    "\n",
    "print(\"check = \",check)"
   ]
  },
  {
   "cell_type": "code",
   "execution_count": 7,
   "id": "a0a36eff",
   "metadata": {},
   "outputs": [],
   "source": [
    "## EXERCISES\n",
    "A = np.array([[1, -2], [5, 3], [-4, -1]])\n",
    "B = np.array([[9, -2, 1, 0], [-1, 3, -2, 4]])\n",
    "C = np.array([[-3, 1], [-5, 2], [1, 0], [-2, 1]])\n",
    "\n",
    "\n",
    "# EXERCISE 1: VERIFY THE ASSOCIATIVITY OF MATRIX MULTIPLICATION, THAT IS, (AB)C = A(BC).\n",
    "# EXERCISE 2: VERIFY THAT (ABC)^T = C^T B^T A^T."
   ]
  },
  {
   "cell_type": "code",
   "execution_count": null,
   "id": "c14fd1ce",
   "metadata": {},
   "outputs": [],
   "source": [
    "# SOLUTION FOR EXERCISE 1\n",
    "\n",
    "\n",
    "\n",
    "\n"
   ]
  },
  {
   "cell_type": "code",
   "execution_count": null,
   "id": "9389bec0",
   "metadata": {},
   "outputs": [],
   "source": [
    "# SOLUTION FOR EXERCISE 2\n",
    "\n",
    "\n",
    "\n",
    "\n"
   ]
  }
 ],
 "metadata": {
  "kernelspec": {
   "display_name": "Python 3 (ipykernel)",
   "language": "python",
   "name": "python3"
  },
  "language_info": {
   "codemirror_mode": {
    "name": "ipython",
    "version": 3
   },
   "file_extension": ".py",
   "mimetype": "text/x-python",
   "name": "python",
   "nbconvert_exporter": "python",
   "pygments_lexer": "ipython3",
   "version": "3.9.13"
  }
 },
 "nbformat": 4,
 "nbformat_minor": 5
}
